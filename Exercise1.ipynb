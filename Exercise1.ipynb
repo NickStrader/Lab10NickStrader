{
 "cells": [
  {
   "cell_type": "code",
   "execution_count": 1,
   "id": "2f7017e4-f227-4b25-818b-951afce3f0e8",
   "metadata": {},
   "outputs": [
    {
     "name": "stdout",
     "output_type": "stream",
     "text": [
      "Geology\n"
     ]
    }
   ],
   "source": [
    "print(\"Geology\")"
   ]
  },
  {
   "cell_type": "code",
   "execution_count": 2,
   "id": "504a5e80-c328-4bbf-8941-41023d93e96f",
   "metadata": {},
   "outputs": [
    {
     "name": "stdout",
     "output_type": "stream",
     "text": [
      "Pressure at 200 km depth is 6278400000.00 Pascals\n"
     ]
    }
   ],
   "source": [
    "#variables contain data\n",
    "# Data: int(),float(), complex(),bool(),str()\n",
    "#Basic math operators:+,-,*,/*,%,**\n",
    "\"\"\"Lake Superior State University\n",
    "Geology \"\"\"\n",
    "\n",
    "# Pressure at an depth: P= depth*density*gravity\n",
    "g = 9.81 #meters\n",
    "density = 3200 #kg/m^3\n",
    "depth = 200 #km\n",
    "\n",
    "pressure = (depth*1000)*density*g # pascal\n",
    "print (\"Pressure at %d km depth is %.2f Pascals\" %(depth,pressure))"
   ]
  },
  {
   "cell_type": "code",
   "execution_count": 3,
   "id": "67e2c8d7-4eff-43dc-aa4e-253627ff6c87",
   "metadata": {},
   "outputs": [
    {
     "name": "stdout",
     "output_type": "stream",
     "text": [
      "pressure at crust mantle boundary is 1250000000 pascals\n",
      "pressure at mantle-core boundary is 1349750000 pascals\n",
      "pressure at core boundary is 427349750000 pascals\n"
     ]
    }
   ],
   "source": [
    "\"\"\"\n",
    "Crust: Thickness 50 km, density = 2500 kg/m^3, g = 10 m/s^2\n",
    "Mantle: Thickness 2850 km, density = 3500 kg/m^3, g = 10 m/s^2\n",
    "Core : Thickness 3550 km, density = 12000 kg/m^3, g = 10 m/s^2\n",
    "\"\"\"\n",
    "\n",
    "Pcm = 50 * 1000 * 2500 * 10 # pascal\n",
    "Pmc = Pcm + (2850 * 3500 * 10) # pascal\n",
    "Pc = Pmc + (3550 * 1000 * 12000 * 10) # pascal\n",
    "\n",
    "print (\"pressure at crust mantle boundary is %d pascals\" % (Pcm))\n",
    "print (\"pressure at mantle-core boundary is %d pascals\" % (Pmc))\n",
    "print (\"pressure at core boundary is %d pascals\" % (Pc))"
   ]
  },
  {
   "cell_type": "code",
   "execution_count": 4,
   "id": "441e6389-20bb-460e-b1e9-267c261c91d4",
   "metadata": {},
   "outputs": [
    {
     "name": "stdin",
     "output_type": "stream",
     "text": [
      "Thickness of the crust in km: 70\n",
      "Thickness of the mantle in km: 2900\n",
      "Thickness of the core in km: 2414\n"
     ]
    },
    {
     "name": "stdout",
     "output_type": "stream",
     "text": [
      "pressure at crust mantle boundary is 1750000000 pascals\n",
      "pressure at mantle-core boundary is 1851500000 pascals\n",
      "pressure at core boundary is 291531500000 pascals\n"
     ]
    }
   ],
   "source": [
    "Tcr = int(input(\"Thickness of the crust in km:\"))\n",
    "Tm = int(input(\"Thickness of the mantle in km:\"))\n",
    "Tco = int(input(\"Thickness of the core in km:\"))\n",
    "\n",
    "\n",
    "\n",
    "Pcm = Tcr * 1000 * 2500 * 10 # pascal\n",
    "Pmc = Pcm + (Tm * 3500 * 10) # pascal\n",
    "Pc = Pmc + (Tco * 1000 * 12000 * 10) # pascal\n",
    "\n",
    "print (\"pressure at crust mantle boundary is %d pascals\" % (Pcm))\n",
    "print (\"pressure at mantle-core boundary is %d pascals\" % (Pmc))\n",
    "print (\"pressure at core boundary is %d pascals\" % (Pc))"
   ]
  },
  {
   "cell_type": "code",
   "execution_count": 5,
   "id": "73007da7-51fa-4d88-9370-7dcded2b32f0",
   "metadata": {},
   "outputs": [
    {
     "name": "stdout",
     "output_type": "stream",
     "text": [
      "Enter values for Darcy's Law calculation:\n"
     ]
    },
    {
     "name": "stdin",
     "output_type": "stream",
     "text": [
      "Permeability (k) in m²:  22\n",
      "Cross-sectional area (A) in m²:  1540\n",
      "Pressure head difference (Δh) in meters:  15\n",
      "Dynamic viscosity (μ) in Pa·s:  23\n",
      "Length (L) in meters:  5\n"
     ]
    },
    {
     "name": "stdout",
     "output_type": "stream",
     "text": [
      "\n",
      "The flow rate (Q) is: 4.419130e+03 m³/s\n"
     ]
    }
   ],
   "source": [
    "# Darcy's Law calculator in a Jupyter Notebook\n",
    "\n",
    "# Prompt user for input values\n",
    "print(\"Enter values for Darcy's Law calculation:\")\n",
    "\n",
    "try:\n",
    "    k = float(input(\"Permeability (k) in m²: \"))\n",
    "    A = float(input(\"Cross-sectional area (A) in m²: \"))\n",
    "    delta_h = float(input(\"Pressure head difference (Δh) in meters: \"))\n",
    "    mu = float(input(\"Dynamic viscosity (μ) in Pa·s: \"))\n",
    "    L = float(input(\"Length (L) in meters: \"))\n",
    "\n",
    "    # Calculate flow rate Q\n",
    "    Q = (k * A * delta_h) / (mu * L)\n",
    "\n",
    "    print(f\"\\nThe flow rate (Q) is: {Q:.6e} m³/s\")\n",
    "except ValueError:\n",
    "    print(\"Please enter valid numerical values.\")\n"
   ]
  },
  {
   "cell_type": "code",
   "execution_count": null,
   "id": "075f896d-014f-4894-b28e-774902a97b5e",
   "metadata": {},
   "outputs": [],
   "source": []
  }
 ],
 "metadata": {
  "kernelspec": {
   "display_name": "Python 3 (ipykernel)",
   "language": "python",
   "name": "python3"
  },
  "language_info": {
   "codemirror_mode": {
    "name": "ipython",
    "version": 3
   },
   "file_extension": ".py",
   "mimetype": "text/x-python",
   "name": "python",
   "nbconvert_exporter": "python",
   "pygments_lexer": "ipython3",
   "version": "3.12.7"
  }
 },
 "nbformat": 4,
 "nbformat_minor": 5
}
